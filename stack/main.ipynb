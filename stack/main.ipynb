{
 "cells": [
  {
   "cell_type": "code",
   "execution_count": 1,
   "id": "05bfa90f",
   "metadata": {},
   "outputs": [],
   "source": [
    "import sys\n",
    "import os\n",
    "sys.path.append(os.path.abspath(os.path.join(os.path.dirname('experiment/2004-01'), '..', '..','..')))\n",
    "from stacking import *\n",
    "import time\n",
    "from helper_code import find_data_folders\n",
    "from sklearn.model_selection import train_test_split\n"
   ]
  },
  {
   "cell_type": "code",
   "execution_count": 2,
   "id": "621b684c",
   "metadata": {},
   "outputs": [],
   "source": [
    "# Define the data and model folder\n",
    "data_folder = \"../data/labels\"\n",
    "model_folder = \"models\""
   ]
  },
  {
   "cell_type": "code",
   "execution_count": 3,
   "id": "d54cc0bb",
   "metadata": {},
   "outputs": [
    {
     "name": "stdout",
     "output_type": "stream",
     "text": [
      "Number of test patients:  2\n"
     ]
    }
   ],
   "source": [
    "# split train/ test\n",
    "patient_ids = find_data_folders(data_folder)\n",
    "train_ids, test_ids = train_test_split(patient_ids, test_size=0.2, random_state=42)\n",
    "print('Number of test patients: ', len(test_ids))"
   ]
  },
  {
   "cell_type": "markdown",
   "id": "dd77fda9",
   "metadata": {},
   "source": [
    "### TRAIN MODEL DENSENET121"
   ]
  },
  {
   "cell_type": "code",
   "execution_count": 4,
   "id": "0b2fe497",
   "metadata": {},
   "outputs": [
    {
     "name": "stdout",
     "output_type": "stream",
     "text": [
      "Start train model\n",
      "Load model...\n",
      "Loading checkpoint from models/densenet121.pth\n",
      "Using densenet121 model from scratch\n",
      "model_name:  densenet121\n",
      "Load model...\n",
      "Loading checkpoint from models/resnet50.pth\n",
      "Using resnet50 model from scratch\n",
      "model_name:  resnet50\n",
      "Load model...\n",
      "Loading checkpoint from models/efficientnet_v2_s.pth\n",
      "Using efficientnet_v2_s model from scratch\n",
      "model_name:  efficientnet_v2_s\n",
      "Load model...\n",
      "Loading checkpoint from models/convnext_tiny.pth\n",
      "Using convnext_tiny model from scratch\n",
      "model_name:  convnext_tiny\n",
      "Meta-model training score: 1.0000\n",
      "Meta-model validation score: 1.0000\n",
      "Saved meta-model to models/meta_model.sav\n",
      "Finished running train_model.py in 0.47 minutes.\n"
     ]
    }
   ],
   "source": [
    "print(\"Start train model\")\n",
    "start_time_train_model = time.time()\n",
    "verbose = 1\n",
    "\n",
    "train_challenge_model(data_folder, model_folder, train_ids, verbose) \n",
    "\n",
    "print(f\"Finished running train_model.py in {round((time.time() - start_time_train_model)/60, 2)} minutes.\")"
   ]
  },
  {
   "cell_type": "code",
   "execution_count": null,
   "id": "c5e7f301",
   "metadata": {},
   "outputs": [],
   "source": [
    "\n"
   ]
  },
  {
   "cell_type": "markdown",
   "id": "6d2b938f",
   "metadata": {},
   "source": [
    "### RUN MODEL DENSENET121"
   ]
  },
  {
   "cell_type": "code",
   "execution_count": 5,
   "id": "0a609e82",
   "metadata": {},
   "outputs": [],
   "source": [
    "import pandas as pd\n",
    "import numpy as np, scipy as sp, os, sys\n",
    "from tqdm import tqdm\n",
    "import time\n",
    "from helper_code import *\n",
    "from stacking import run_challenge_model"
   ]
  },
  {
   "cell_type": "code",
   "execution_count": 6,
   "id": "2049ad9e",
   "metadata": {},
   "outputs": [],
   "source": [
    "output_filename = 'stacking.csv'\n",
    "output_folder = 'results'"
   ]
  },
  {
   "cell_type": "code",
   "execution_count": 7,
   "id": "201fc2a2",
   "metadata": {},
   "outputs": [],
   "source": [
    "\n",
    "def run_model(model_folder, data_folder, output_folder,patient_ids,  allow_failures, verbose):\n",
    "    if verbose >= 1:\n",
    "        print('Loading the Challenge models...')\n",
    "\n",
    "\n",
    "    # Find the Challenge data.\n",
    "    if verbose >= 1:\n",
    "        print('Finding the Challenge data...')\n",
    "\n",
    "    num_patients = len(patient_ids)\n",
    "\n",
    "    if num_patients==0:\n",
    "        raise Exception('No data were provided.')\n",
    "\n",
    "\n",
    "    os.makedirs(output_folder, exist_ok=True)\n",
    "\n",
    "\n",
    "    if verbose >= 1:\n",
    "        print('Running the Challenge models on the Challenge data...')\n",
    "    prediction_results = []\n",
    "    for i in tqdm(range(num_patients)):\n",
    "        print(f\"[{i}/{num_patients}]\")\n",
    "       \n",
    "\n",
    "        patient_id = patient_ids[i]\n",
    "        print('PATIENT ID: ', patient_id )\n",
    "        file_meta_data = os.path.join(data_folder, patient_id, f\"{patient_id}.txt\")\n",
    "        meta_data = load_text_file(file_meta_data)\n",
    "        actual_outcome = get_variable(meta_data, 'Outcome', str)\n",
    "        actual_cpc = get_cpc(meta_data)\n",
    "\n",
    "        # Allow or disallow the model(s) to fail on parts of the data; this can be helpful for debugging.\n",
    "        try:\n",
    "            outcome_binary, outcome_probability = run_challenge_model(model_folder, data_folder, patient_id, verbose) ### Teams: Implement this function!!!\n",
    "            print(\"Predict outcome: \", \"Good\" if sanitize_boolean_value(outcome_binary) == 0 else \"Poor\", \" - Actual outcome: \", actual_outcome)\n",
    "            \n",
    "            prediction_results.append({\n",
    "                'patient_id': patient_id,\n",
    "                'outcome_binary': outcome_binary,\n",
    "                'outcome_prob': outcome_probability, \n",
    "                'actual_outcome': actual_outcome,\n",
    "            })\n",
    "            \n",
    "        except:\n",
    "            if allow_failures:\n",
    "                if verbose >= 2:\n",
    "                    print('... failed.')\n",
    "                outcome_binary, outcome_probability, cpc = float('nan'), float('nan'), float('nan')\n",
    "            else:\n",
    "                raise\n",
    "\n",
    "        #Save output to csv\n",
    "        \n",
    "    save_predictions_to_csv(prediction_results, output_folder, output_filename)\n",
    "\n",
    "    if verbose >= 1:\n",
    "        print('Done.')"
   ]
  },
  {
   "cell_type": "code",
   "execution_count": 8,
   "id": "454b178a",
   "metadata": {},
   "outputs": [
    {
     "name": "stdout",
     "output_type": "stream",
     "text": [
      "Start run model\n",
      "Loading the Challenge models...\n",
      "Finding the Challenge data...\n",
      "Running the Challenge models on the Challenge data...\n"
     ]
    },
    {
     "name": "stderr",
     "output_type": "stream",
     "text": [
      "  0%|          | 0/2 [00:00<?, ?it/s]"
     ]
    },
    {
     "name": "stdout",
     "output_type": "stream",
     "text": [
      "[0/2]\n",
      "PATIENT ID:  0392\n",
      "Load model...\n",
      "Loading checkpoint from models/densenet121.pth\n",
      "Using densenet121 model from scratch\n",
      "model_name:  densenet121\n",
      "Load model...\n",
      "Loading checkpoint from models/resnet50.pth\n",
      "Using resnet50 model from scratch\n",
      "model_name:  resnet50\n",
      "Load model...\n",
      "Loading checkpoint from models/efficientnet_v2_s.pth\n",
      "Using efficientnet_v2_s model from scratch\n",
      "model_name:  efficientnet_v2_s\n",
      "Load model...\n",
      "Loading checkpoint from models/convnext_tiny.pth\n",
      "Using convnext_tiny model from scratch\n",
      "model_name:  convnext_tiny\n"
     ]
    },
    {
     "name": "stderr",
     "output_type": "stream",
     "text": [
      "100%|██████████| 4/4 [00:01<00:00,  2.24it/s]\n",
      "100%|██████████| 4/4 [00:01<00:00,  2.84it/s]\n",
      "100%|██████████| 4/4 [00:01<00:00,  2.76it/s]\n",
      "100%|██████████| 4/4 [00:01<00:00,  2.76it/s]\n",
      " 50%|█████     | 1/2 [00:07<00:07,  7.23s/it]"
     ]
    },
    {
     "name": "stdout",
     "output_type": "stream",
     "text": [
      "Outcome:  1\n",
      "Outcome probability:  1.0\n",
      "Predict outcome:  Poor  - Actual outcome:  Poor\n",
      "[1/2]\n",
      "PATIENT ID:  0397\n",
      "Load model...\n",
      "Loading checkpoint from models/densenet121.pth\n",
      "Using densenet121 model from scratch\n",
      "model_name:  densenet121\n",
      "Load model...\n",
      "Loading checkpoint from models/resnet50.pth\n",
      "Using resnet50 model from scratch\n",
      "model_name:  resnet50\n",
      "Load model...\n",
      "Loading checkpoint from models/efficientnet_v2_s.pth\n",
      "Using efficientnet_v2_s model from scratch\n",
      "model_name:  efficientnet_v2_s\n",
      "Load model...\n",
      "Loading checkpoint from models/convnext_tiny.pth\n",
      "Using convnext_tiny model from scratch\n",
      "model_name:  convnext_tiny\n"
     ]
    },
    {
     "name": "stderr",
     "output_type": "stream",
     "text": [
      "100%|██████████| 3/3 [00:01<00:00,  2.10it/s]\n",
      "100%|██████████| 3/3 [00:01<00:00,  2.06it/s]\n",
      "100%|██████████| 3/3 [00:01<00:00,  2.07it/s]\n",
      "100%|██████████| 3/3 [00:01<00:00,  2.07it/s]\n",
      "100%|██████████| 2/2 [00:14<00:00,  7.04s/it]"
     ]
    },
    {
     "name": "stdout",
     "output_type": "stream",
     "text": [
      "Outcome:  1\n",
      "Outcome probability:  1.0\n",
      "Predict outcome:  Poor  - Actual outcome:  Good\n",
      "Done.\n",
      "Finished running run_model.py in 0.23 minutes.\n"
     ]
    },
    {
     "name": "stderr",
     "output_type": "stream",
     "text": [
      "\n"
     ]
    }
   ],
   "source": [
    "print(\"Start run model\")\n",
    "start_time_run_model = time.time()\n",
    "\n",
    "# Allow or disallow the model to fail on parts of the data; helpful for debugging.\n",
    "allow_failures = False\n",
    "\n",
    "verbose = 1\n",
    "\n",
    "run_model(model_folder, data_folder, output_folder, test_ids, allow_failures, verbose)\n",
    "\n",
    "print(f\"Finished running run_model.py in {round((time.time() - start_time_run_model)/60, 2)} minutes.\")"
   ]
  },
  {
   "cell_type": "markdown",
   "id": "d0b454e4",
   "metadata": {},
   "source": [
    "### Evaluate model"
   ]
  },
  {
   "cell_type": "code",
   "execution_count": 9,
   "id": "62893df9",
   "metadata": {},
   "outputs": [],
   "source": [
    "from sklearn.metrics import (\n",
    "    accuracy_score, precision_score, recall_score,\n",
    "    f1_score, roc_auc_score, confusion_matrix\n",
    ")\n",
    "import matplotlib.pyplot as plt\n",
    "import seaborn as sns\n",
    "from helper_code import load_predictions_from_csv"
   ]
  },
  {
   "cell_type": "code",
   "execution_count": 10,
   "id": "0422e8ff",
   "metadata": {},
   "outputs": [],
   "source": [
    "all_results = load_predictions_from_csv(output_folder, output_filename)\n",
    "y_pred = list()\n",
    "y_true = list()\n",
    "y_prob = list()\n",
    "for res in all_results:\n",
    "    y_pred.append(res['outcome_binary'])\n",
    "    y_true.append(res['actual_outcome'])\n",
    "    y_prob.append(res['outcome_prob'])\n",
    "\n",
    "\n",
    "acc = accuracy_score(y_true, y_pred)\n",
    "prec = precision_score(y_true, y_pred)\n",
    "rec = recall_score(y_true, y_pred)\n",
    "f1 = f1_score(y_true, y_pred)\n",
    "roc_auc = roc_auc_score(y_true, y_prob)\n",
    "cm = confusion_matrix(y_true, y_pred)\n",
    "\n"
   ]
  },
  {
   "cell_type": "code",
   "execution_count": 11,
   "id": "8ea72adb",
   "metadata": {},
   "outputs": [
    {
     "name": "stdout",
     "output_type": "stream",
     "text": [
      "=== Evaluation Metrics ===\n",
      "Accuracy       : 0.5000\n",
      "Precision      : 0.5000\n",
      "Recall         : 1.0000\n",
      "F1 Score       : 0.6667\n"
     ]
    }
   ],
   "source": [
    "print(\"=== Evaluation Metrics ===\")\n",
    "print(f\"Accuracy       : {acc:.4f}\")\n",
    "print(f\"Precision      : {prec:.4f}\")\n",
    "print(f\"Recall         : {rec:.4f}\")\n",
    "print(f\"F1 Score       : {f1:.4f}\")\n"
   ]
  },
  {
   "cell_type": "code",
   "execution_count": 12,
   "id": "538d04a0",
   "metadata": {},
   "outputs": [],
   "source": [
    "def plot_confusion_matrix(y_true, y_pred, labels=[0, 1]):\n",
    "    cm = confusion_matrix(y_true, y_pred, labels=labels)\n",
    "    plt.figure(figsize=(6, 4))\n",
    "    sns.heatmap(cm, annot=True, fmt='d', cmap='Blues',\n",
    "                xticklabels=labels, yticklabels=labels)\n",
    "    plt.xlabel('Predicted')\n",
    "    plt.ylabel('Actual')\n",
    "    plt.title('Confusion Matrix')\n",
    "    plt.show()"
   ]
  },
  {
   "cell_type": "code",
   "execution_count": 13,
   "id": "781aa6f7",
   "metadata": {},
   "outputs": [
    {
     "data": {
      "image/png": "[encoded data removed]",
      "text/plain": [
       "<Figure size 600x400 with 2 Axes>"
      ]
     },
     "metadata": {},
     "output_type": "display_data"
    }
   ],
   "source": [
    "plot_confusion_matrix(y_true, y_pred)"
   ]
  }
 ],
 "metadata": {
  "kernelspec": {
   "display_name": "rank-15",
   "language": "python",
   "name": "python3"
  },
  "language_info": {
   "codemirror_mode": {
    "name": "ipython",
    "version": 3
   },
   "file_extension": ".py",
   "mimetype": "text/x-python",
   "name": "python",
   "nbconvert_exporter": "python",
   "pygments_lexer": "ipython3",
   "version": "3.9.21"
  }
 },
 "nbformat": 4,
 "nbformat_minor": 5
}

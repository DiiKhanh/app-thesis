{
 "cells": [
  {
   "cell_type": "code",
   "execution_count": 1,
   "id": "05bfa90f",
   "metadata": {},
   "outputs": [],
   "source": [
    "import sys\n",
    "import os\n",
    "sys.path.append(os.path.abspath(os.path.join(os.path.dirname('experiment/1505-01'), '..', '..','..')))\n",
    "from team_code_resnet import *\n",
    "import time\n",
    "from helper_code import find_data_folders\n",
    "from sklearn.model_selection import train_test_split\n"
   ]
  },
  {
   "cell_type": "code",
   "execution_count": 2,
   "id": "621b684c",
   "metadata": {},
   "outputs": [],
   "source": [
    "# Define the data and model folder\n",
    "data_folder = \"../data/labels\"\n",
    "model_folder = \"models/test\""
   ]
  },
  {
   "cell_type": "code",
   "execution_count": 3,
   "id": "d54cc0bb",
   "metadata": {},
   "outputs": [
    {
     "name": "stdout",
     "output_type": "stream",
     "text": [
      "Number of test patients:  2\n"
     ]
    }
   ],
   "source": [
    "# split train/ test\n",
    "patient_ids = find_data_folders(data_folder)\n",
    "train_ids, test_ids = train_test_split(patient_ids, test_size=0.2, random_state=42)\n",
    "print('Number of test patients: ', len(test_ids))"
   ]
  },
  {
   "cell_type": "markdown",
   "id": "dd77fda9",
   "metadata": {},
   "source": [
    "### TRAIN MODEL efficientnet"
   ]
  },
  {
   "cell_type": "code",
   "execution_count": 4,
   "id": "0b2fe497",
   "metadata": {},
   "outputs": [
    {
     "name": "stdout",
     "output_type": "stream",
     "text": [
      "Start train model\n",
      "Starting train_challenge_model...\n",
      "CPU count: 12\n",
      "Using: {'num_workers': 5}\n",
      "Finding the challenge data in ../data/labels...\n",
      "Using device cuda\n"
     ]
    },
    {
     "name": "stderr",
     "output_type": "stream",
     "text": [
      "/home/nganluu/miniconda3/envs/rank-15/lib/python3.9/site-packages/torchvision/models/_utils.py:208: UserWarning: The parameter 'pretrained' is deprecated since 0.13 and may be removed in the future, please use 'weights' instead.\n",
      "  warnings.warn(\n",
      "/home/nganluu/miniconda3/envs/rank-15/lib/python3.9/site-packages/torchvision/models/_utils.py:223: UserWarning: Arguments other than a weight enum or `None` for 'weights' are deprecated since 0.13 and may be removed in the future. The current behavior is equivalent to passing `weights=ResNet50_Weights.IMAGENET1K_V1`. You can also use `weights=ResNet50_Weights.DEFAULT` to get the most up-to-date weights.\n",
      "  warnings.warn(msg)\n",
      "Downloading: \"https://download.pytorch.org/models/resnet50-0676ba61.pth\" to /home/nganluu/.cache/torch/hub/checkpoints/resnet50-0676ba61.pth\n"
     ]
    },
    {
     "data": {
      "application/vnd.jupyter.widget-view+json": {
       "model_id": "51c10d1210694945b539489dfc1fb34a",
       "version_major": 2,
       "version_minor": 0
      },
      "text/plain": [
       "  0%|          | 0.00/97.8M [00:00<?, ?B/s]"
      ]
     },
     "metadata": {},
     "output_type": "display_data"
    },
    {
     "name": "stdout",
     "output_type": "stream",
     "text": [
      "Using best model.\n",
      "No checkpoint found. Starting from scratch.\n",
      "Start training EEG torch model...\n",
      "✅ Starting epoch 1/10 with 1 batches\n"
     ]
    },
    {
     "name": "stderr",
     "output_type": "stream",
     "text": [
      "100%|██████████| 1/1 [00:04<00:00,  4.96s/it]\n"
     ]
    },
    {
     "name": "stdout",
     "output_type": "stream",
     "text": [
      "Validating epoch 1/10 with 1 batches\n"
     ]
    },
    {
     "name": "stderr",
     "output_type": "stream",
     "text": [
      "100%|██████████| 1/1 [00:02<00:00,  2.32s/it]\n",
      "/home/nganluu/Workspace/i-care-spec/experiment/2205-01 /team_code_resnet.py:1941: RuntimeWarning: Mean of empty slice\n",
      "  avg_val_auc = np.nanmean(val_auc)\n",
      "/home/nganluu/Workspace/i-care-spec/experiment/2205-01 /team_code_resnet.py:1943: RuntimeWarning: Mean of empty slice\n",
      "  avg_val_f1 = np.nanmean(val_f1)\n",
      "/home/nganluu/Workspace/i-care-spec/experiment/2205-01 /team_code_resnet.py:1944: RuntimeWarning: Mean of empty slice\n",
      "  avg_val_precision = np.nanmean(val_precision)\n",
      "/home/nganluu/Workspace/i-care-spec/experiment/2205-01 /team_code_resnet.py:1945: RuntimeWarning: Mean of empty slice\n",
      "  avg_val_recall = np.nanmean(val_recall)\n"
     ]
    },
    {
     "name": "stdout",
     "output_type": "stream",
     "text": [
      "Epoch 0, avg. train loss: 0.7778, avg. train AUC: 0.2857, avg. val loss: 0.6868, avg. val AUC: nan.\n",
      " Best so far: Epoch 0 with avg. val loss 0.6868 and avg. val AUC nan.\n",
      " Lr was 5e-05.\n",
      "✅ Starting epoch 2/10 with 1 batches\n"
     ]
    },
    {
     "name": "stderr",
     "output_type": "stream",
     "text": [
      "100%|██████████| 1/1 [00:03<00:00,  3.63s/it]\n"
     ]
    },
    {
     "name": "stdout",
     "output_type": "stream",
     "text": [
      "Validating epoch 2/10 with 1 batches\n"
     ]
    },
    {
     "name": "stderr",
     "output_type": "stream",
     "text": [
      "100%|██████████| 1/1 [00:02<00:00,  2.22s/it]\n",
      "/home/nganluu/Workspace/i-care-spec/experiment/2205-01 /team_code_resnet.py:1941: RuntimeWarning: Mean of empty slice\n",
      "  avg_val_auc = np.nanmean(val_auc)\n",
      "/home/nganluu/Workspace/i-care-spec/experiment/2205-01 /team_code_resnet.py:1943: RuntimeWarning: Mean of empty slice\n",
      "  avg_val_f1 = np.nanmean(val_f1)\n",
      "/home/nganluu/Workspace/i-care-spec/experiment/2205-01 /team_code_resnet.py:1944: RuntimeWarning: Mean of empty slice\n",
      "  avg_val_precision = np.nanmean(val_precision)\n",
      "/home/nganluu/Workspace/i-care-spec/experiment/2205-01 /team_code_resnet.py:1945: RuntimeWarning: Mean of empty slice\n",
      "  avg_val_recall = np.nanmean(val_recall)\n"
     ]
    },
    {
     "name": "stdout",
     "output_type": "stream",
     "text": [
      "Epoch 1, avg. train loss: 0.5638, avg. train AUC: 1.0, avg. val loss: 0.6586, avg. val AUC: nan.\n",
      " Best so far: Epoch 1 with avg. val loss 0.6586 and avg. val AUC nan.\n",
      " Lr was 5e-05.\n",
      "✅ Starting epoch 3/10 with 1 batches\n"
     ]
    },
    {
     "name": "stderr",
     "output_type": "stream",
     "text": [
      "100%|██████████| 1/1 [00:03<00:00,  3.75s/it]\n"
     ]
    },
    {
     "name": "stdout",
     "output_type": "stream",
     "text": [
      "Validating epoch 3/10 with 1 batches\n"
     ]
    },
    {
     "name": "stderr",
     "output_type": "stream",
     "text": [
      "100%|██████████| 1/1 [00:02<00:00,  2.22s/it]\n",
      "/home/nganluu/Workspace/i-care-spec/experiment/2205-01 /team_code_resnet.py:1941: RuntimeWarning: Mean of empty slice\n",
      "  avg_val_auc = np.nanmean(val_auc)\n",
      "/home/nganluu/Workspace/i-care-spec/experiment/2205-01 /team_code_resnet.py:1943: RuntimeWarning: Mean of empty slice\n",
      "  avg_val_f1 = np.nanmean(val_f1)\n",
      "/home/nganluu/Workspace/i-care-spec/experiment/2205-01 /team_code_resnet.py:1944: RuntimeWarning: Mean of empty slice\n",
      "  avg_val_precision = np.nanmean(val_precision)\n",
      "/home/nganluu/Workspace/i-care-spec/experiment/2205-01 /team_code_resnet.py:1945: RuntimeWarning: Mean of empty slice\n",
      "  avg_val_recall = np.nanmean(val_recall)\n"
     ]
    },
    {
     "name": "stdout",
     "output_type": "stream",
     "text": [
      "Epoch 2, avg. train loss: 0.4072, avg. train AUC: 1.0, avg. val loss: 0.6392, avg. val AUC: nan.\n",
      " Best so far: Epoch 2 with avg. val loss 0.6392 and avg. val AUC nan.\n",
      " Lr was 5e-05.\n",
      "✅ Starting epoch 4/10 with 1 batches\n"
     ]
    },
    {
     "name": "stderr",
     "output_type": "stream",
     "text": [
      "100%|██████████| 1/1 [00:03<00:00,  3.68s/it]\n"
     ]
    },
    {
     "name": "stdout",
     "output_type": "stream",
     "text": [
      "Validating epoch 4/10 with 1 batches\n"
     ]
    },
    {
     "name": "stderr",
     "output_type": "stream",
     "text": [
      "100%|██████████| 1/1 [00:02<00:00,  2.28s/it]\n",
      "/home/nganluu/Workspace/i-care-spec/experiment/2205-01 /team_code_resnet.py:1941: RuntimeWarning: Mean of empty slice\n",
      "  avg_val_auc = np.nanmean(val_auc)\n",
      "/home/nganluu/Workspace/i-care-spec/experiment/2205-01 /team_code_resnet.py:1943: RuntimeWarning: Mean of empty slice\n",
      "  avg_val_f1 = np.nanmean(val_f1)\n",
      "/home/nganluu/Workspace/i-care-spec/experiment/2205-01 /team_code_resnet.py:1944: RuntimeWarning: Mean of empty slice\n",
      "  avg_val_precision = np.nanmean(val_precision)\n",
      "/home/nganluu/Workspace/i-care-spec/experiment/2205-01 /team_code_resnet.py:1945: RuntimeWarning: Mean of empty slice\n",
      "  avg_val_recall = np.nanmean(val_recall)\n"
     ]
    },
    {
     "name": "stdout",
     "output_type": "stream",
     "text": [
      "Epoch 3, avg. train loss: 0.3005, avg. train AUC: 1.0, avg. val loss: 0.6195, avg. val AUC: nan.\n",
      " Best so far: Epoch 3 with avg. val loss 0.6195 and avg. val AUC nan.\n",
      " Lr was 5e-05.\n",
      "✅ Starting epoch 5/10 with 1 batches\n"
     ]
    },
    {
     "name": "stderr",
     "output_type": "stream",
     "text": [
      "100%|██████████| 1/1 [00:03<00:00,  3.72s/it]\n"
     ]
    },
    {
     "name": "stdout",
     "output_type": "stream",
     "text": [
      "Validating epoch 5/10 with 1 batches\n"
     ]
    },
    {
     "name": "stderr",
     "output_type": "stream",
     "text": [
      "100%|██████████| 1/1 [00:02<00:00,  2.21s/it]\n",
      "/home/nganluu/Workspace/i-care-spec/experiment/2205-01 /team_code_resnet.py:1941: RuntimeWarning: Mean of empty slice\n",
      "  avg_val_auc = np.nanmean(val_auc)\n",
      "/home/nganluu/Workspace/i-care-spec/experiment/2205-01 /team_code_resnet.py:1943: RuntimeWarning: Mean of empty slice\n",
      "  avg_val_f1 = np.nanmean(val_f1)\n",
      "/home/nganluu/Workspace/i-care-spec/experiment/2205-01 /team_code_resnet.py:1944: RuntimeWarning: Mean of empty slice\n",
      "  avg_val_precision = np.nanmean(val_precision)\n",
      "/home/nganluu/Workspace/i-care-spec/experiment/2205-01 /team_code_resnet.py:1945: RuntimeWarning: Mean of empty slice\n",
      "  avg_val_recall = np.nanmean(val_recall)\n"
     ]
    },
    {
     "name": "stdout",
     "output_type": "stream",
     "text": [
      "Epoch 4, avg. train loss: 0.2251, avg. train AUC: 1.0, avg. val loss: 0.5795, avg. val AUC: nan.\n",
      " Best so far: Epoch 4 with avg. val loss 0.5795 and avg. val AUC nan.\n",
      " Lr was 5e-05.\n",
      "✅ Starting epoch 6/10 with 1 batches\n"
     ]
    },
    {
     "name": "stderr",
     "output_type": "stream",
     "text": [
      "100%|██████████| 1/1 [00:03<00:00,  3.79s/it]\n"
     ]
    },
    {
     "name": "stdout",
     "output_type": "stream",
     "text": [
      "Validating epoch 6/10 with 1 batches\n"
     ]
    },
    {
     "name": "stderr",
     "output_type": "stream",
     "text": [
      "100%|██████████| 1/1 [00:02<00:00,  2.27s/it]\n",
      "/home/nganluu/Workspace/i-care-spec/experiment/2205-01 /team_code_resnet.py:1941: RuntimeWarning: Mean of empty slice\n",
      "  avg_val_auc = np.nanmean(val_auc)\n",
      "/home/nganluu/Workspace/i-care-spec/experiment/2205-01 /team_code_resnet.py:1943: RuntimeWarning: Mean of empty slice\n",
      "  avg_val_f1 = np.nanmean(val_f1)\n",
      "/home/nganluu/Workspace/i-care-spec/experiment/2205-01 /team_code_resnet.py:1944: RuntimeWarning: Mean of empty slice\n",
      "  avg_val_precision = np.nanmean(val_precision)\n",
      "/home/nganluu/Workspace/i-care-spec/experiment/2205-01 /team_code_resnet.py:1945: RuntimeWarning: Mean of empty slice\n",
      "  avg_val_recall = np.nanmean(val_recall)\n"
     ]
    },
    {
     "name": "stdout",
     "output_type": "stream",
     "text": [
      "Epoch 5, avg. train loss: 0.1707, avg. train AUC: 1.0, avg. val loss: 0.5498, avg. val AUC: nan.\n",
      " Best so far: Epoch 5 with avg. val loss 0.5498 and avg. val AUC nan.\n",
      " Lr was 5e-05.\n",
      "✅ Starting epoch 7/10 with 1 batches\n"
     ]
    },
    {
     "name": "stderr",
     "output_type": "stream",
     "text": [
      "100%|██████████| 1/1 [00:03<00:00,  3.80s/it]\n"
     ]
    },
    {
     "name": "stdout",
     "output_type": "stream",
     "text": [
      "Validating epoch 7/10 with 1 batches\n"
     ]
    },
    {
     "name": "stderr",
     "output_type": "stream",
     "text": [
      "100%|██████████| 1/1 [00:02<00:00,  2.22s/it]\n",
      "/home/nganluu/Workspace/i-care-spec/experiment/2205-01 /team_code_resnet.py:1941: RuntimeWarning: Mean of empty slice\n",
      "  avg_val_auc = np.nanmean(val_auc)\n",
      "/home/nganluu/Workspace/i-care-spec/experiment/2205-01 /team_code_resnet.py:1943: RuntimeWarning: Mean of empty slice\n",
      "  avg_val_f1 = np.nanmean(val_f1)\n",
      "/home/nganluu/Workspace/i-care-spec/experiment/2205-01 /team_code_resnet.py:1944: RuntimeWarning: Mean of empty slice\n",
      "  avg_val_precision = np.nanmean(val_precision)\n",
      "/home/nganluu/Workspace/i-care-spec/experiment/2205-01 /team_code_resnet.py:1945: RuntimeWarning: Mean of empty slice\n",
      "  avg_val_recall = np.nanmean(val_recall)\n"
     ]
    },
    {
     "name": "stdout",
     "output_type": "stream",
     "text": [
      "Epoch 6, avg. train loss: 0.1308, avg. train AUC: 1.0, avg. val loss: 0.5104, avg. val AUC: nan.\n",
      " Best so far: Epoch 6 with avg. val loss 0.5104 and avg. val AUC nan.\n",
      " Lr was 5e-05.\n",
      "✅ Starting epoch 8/10 with 1 batches\n"
     ]
    },
    {
     "name": "stderr",
     "output_type": "stream",
     "text": [
      "100%|██████████| 1/1 [00:03<00:00,  3.76s/it]\n"
     ]
    },
    {
     "name": "stdout",
     "output_type": "stream",
     "text": [
      "Validating epoch 8/10 with 1 batches\n"
     ]
    },
    {
     "name": "stderr",
     "output_type": "stream",
     "text": [
      "100%|██████████| 1/1 [00:02<00:00,  2.26s/it]\n",
      "/home/nganluu/Workspace/i-care-spec/experiment/2205-01 /team_code_resnet.py:1941: RuntimeWarning: Mean of empty slice\n",
      "  avg_val_auc = np.nanmean(val_auc)\n",
      "/home/nganluu/Workspace/i-care-spec/experiment/2205-01 /team_code_resnet.py:1943: RuntimeWarning: Mean of empty slice\n",
      "  avg_val_f1 = np.nanmean(val_f1)\n",
      "/home/nganluu/Workspace/i-care-spec/experiment/2205-01 /team_code_resnet.py:1944: RuntimeWarning: Mean of empty slice\n",
      "  avg_val_precision = np.nanmean(val_precision)\n",
      "/home/nganluu/Workspace/i-care-spec/experiment/2205-01 /team_code_resnet.py:1945: RuntimeWarning: Mean of empty slice\n",
      "  avg_val_recall = np.nanmean(val_recall)\n"
     ]
    },
    {
     "name": "stdout",
     "output_type": "stream",
     "text": [
      "Epoch 7, avg. train loss: 0.1009, avg. train AUC: 1.0, avg. val loss: 0.4621, avg. val AUC: nan.\n",
      " Best so far: Epoch 7 with avg. val loss 0.4621 and avg. val AUC nan.\n",
      " Lr was 5e-05.\n",
      "✅ Starting epoch 9/10 with 1 batches\n"
     ]
    },
    {
     "name": "stderr",
     "output_type": "stream",
     "text": [
      "100%|██████████| 1/1 [00:03<00:00,  3.78s/it]\n"
     ]
    },
    {
     "name": "stdout",
     "output_type": "stream",
     "text": [
      "Validating epoch 9/10 with 1 batches\n"
     ]
    },
    {
     "name": "stderr",
     "output_type": "stream",
     "text": [
      "100%|██████████| 1/1 [00:02<00:00,  2.29s/it]\n",
      "/home/nganluu/Workspace/i-care-spec/experiment/2205-01 /team_code_resnet.py:1941: RuntimeWarning: Mean of empty slice\n",
      "  avg_val_auc = np.nanmean(val_auc)\n",
      "/home/nganluu/Workspace/i-care-spec/experiment/2205-01 /team_code_resnet.py:1943: RuntimeWarning: Mean of empty slice\n",
      "  avg_val_f1 = np.nanmean(val_f1)\n",
      "/home/nganluu/Workspace/i-care-spec/experiment/2205-01 /team_code_resnet.py:1944: RuntimeWarning: Mean of empty slice\n",
      "  avg_val_precision = np.nanmean(val_precision)\n",
      "/home/nganluu/Workspace/i-care-spec/experiment/2205-01 /team_code_resnet.py:1945: RuntimeWarning: Mean of empty slice\n",
      "  avg_val_recall = np.nanmean(val_recall)\n"
     ]
    },
    {
     "name": "stdout",
     "output_type": "stream",
     "text": [
      "Epoch 8, avg. train loss: 0.0784, avg. train AUC: 1.0, avg. val loss: 0.4239, avg. val AUC: nan.\n",
      " Best so far: Epoch 8 with avg. val loss 0.4239 and avg. val AUC nan.\n",
      " Lr was 5e-05.\n",
      "✅ Starting epoch 10/10 with 1 batches\n"
     ]
    },
    {
     "name": "stderr",
     "output_type": "stream",
     "text": [
      "100%|██████████| 1/1 [00:03<00:00,  3.79s/it]\n"
     ]
    },
    {
     "name": "stdout",
     "output_type": "stream",
     "text": [
      "Validating epoch 10/10 with 1 batches\n"
     ]
    },
    {
     "name": "stderr",
     "output_type": "stream",
     "text": [
      "100%|██████████| 1/1 [00:02<00:00,  2.25s/it]\n",
      "/home/nganluu/Workspace/i-care-spec/experiment/2205-01 /team_code_resnet.py:1941: RuntimeWarning: Mean of empty slice\n",
      "  avg_val_auc = np.nanmean(val_auc)\n",
      "/home/nganluu/Workspace/i-care-spec/experiment/2205-01 /team_code_resnet.py:1943: RuntimeWarning: Mean of empty slice\n",
      "  avg_val_f1 = np.nanmean(val_f1)\n",
      "/home/nganluu/Workspace/i-care-spec/experiment/2205-01 /team_code_resnet.py:1944: RuntimeWarning: Mean of empty slice\n",
      "  avg_val_precision = np.nanmean(val_precision)\n",
      "/home/nganluu/Workspace/i-care-spec/experiment/2205-01 /team_code_resnet.py:1945: RuntimeWarning: Mean of empty slice\n",
      "  avg_val_recall = np.nanmean(val_recall)\n"
     ]
    },
    {
     "name": "stdout",
     "output_type": "stream",
     "text": [
      "Epoch 9, avg. train loss: 0.0617, avg. train AUC: 1.0, avg. val loss: 0.3892, avg. val AUC: nan.\n",
      " Best so far: Epoch 9 with avg. val loss 0.3892 and avg. val AUC nan.\n",
      " Lr was 5e-05.\n",
      "Going forward, using best model from epoch 10 with avg. val loss 0.3892 and avg. val AUC nan.\n",
      "Finished training EEG torch model for 10 epochs after 1.1895 min. ---\n",
      "Done with EEG torch.\n",
      "Done after 1.271 min.\n",
      "Finished running train_model.py in 1.27 minutes.\n"
     ]
    }
   ],
   "source": [
    "print(\"Start train model\")\n",
    "start_time_train_model = time.time()\n",
    "verbose = 1\n",
    "\n",
    "train_challenge_model(data_folder, model_folder, train_ids, verbose) \n",
    "\n",
    "print(f\"Finished running train_model.py in {round((time.time() - start_time_train_model)/60, 2)} minutes.\")"
   ]
  },
  {
   "cell_type": "code",
   "execution_count": 5,
   "id": "c5e7f301",
   "metadata": {},
   "outputs": [
    {
     "data": {
      "image/png": "[encoded data removed]",
      "text/plain": [
       "<Figure size 1000x500 with 2 Axes>"
      ]
     },
     "metadata": {},
     "output_type": "display_data"
    }
   ],
   "source": [
    "plot_metrics_from_csv(os.path.join(model_folder, 'eeg', TRAIN_LOG_FILE_NAME))\n"
   ]
  },
  {
   "cell_type": "markdown",
   "id": "6d2b938f",
   "metadata": {},
   "source": [
    "### RUN MODEL efficientnet"
   ]
  },
  {
   "cell_type": "code",
   "execution_count": 6,
   "id": "0a609e82",
   "metadata": {},
   "outputs": [],
   "source": [
    "import pandas as pd\n",
    "import numpy as np, scipy as sp, os, sys\n",
    "from tqdm import tqdm\n",
    "import time\n",
    "from helper_code import *\n",
    "from team_code_resnet import load_challenge_models, run_challenge_models"
   ]
  },
  {
   "cell_type": "code",
   "execution_count": 7,
   "id": "2049ad9e",
   "metadata": {},
   "outputs": [],
   "source": [
    "output_filename = 'efficientnet-001-test.csv'\n",
    "output_folder = 'results'"
   ]
  },
  {
   "cell_type": "code",
   "execution_count": 8,
   "id": "201fc2a2",
   "metadata": {},
   "outputs": [],
   "source": [
    "\n",
    "def run_model(model_folder, data_folder, output_folder,patient_ids,  allow_failures, verbose):\n",
    "    if verbose >= 1:\n",
    "        print('Loading the Challenge models...')\n",
    "\n",
    "    \n",
    "    models = load_challenge_models(model_folder, verbose) \n",
    "\n",
    "    # Find the Challenge data.\n",
    "    if verbose >= 1:\n",
    "        print('Finding the Challenge data...')\n",
    "\n",
    "    num_patients = len(patient_ids)\n",
    "\n",
    "    if num_patients==0:\n",
    "        raise Exception('No data were provided.')\n",
    "\n",
    "\n",
    "    os.makedirs(output_folder, exist_ok=True)\n",
    "\n",
    "\n",
    "    if verbose >= 1:\n",
    "        print('Running the Challenge models on the Challenge data...')\n",
    "    prediction_results = []\n",
    "    for i in tqdm(range(num_patients)):\n",
    "        print(f\"[{i}/{num_patients}]\")\n",
    "       \n",
    "\n",
    "        patient_id = patient_ids[i]\n",
    "        print('PATIENT ID: ', patient_id )\n",
    "        file_meta_data = os.path.join(data_folder, patient_id, f\"{patient_id}.txt\")\n",
    "        meta_data = load_text_file(file_meta_data)\n",
    "        actual_outcome = get_variable(meta_data, 'Outcome', str)\n",
    "        actual_cpc = get_cpc(meta_data)\n",
    "\n",
    "        # Allow or disallow the model(s) to fail on parts of the data; this can be helpful for debugging.\n",
    "        try:\n",
    "            outcome_binary, outcome_probability = run_challenge_models(models, data_folder, patient_id, verbose, False) ### Teams: Implement this function!!!\n",
    "            print(\"Predict outcome: \", \"Good\" if sanitize_boolean_value(outcome_binary) == 0 else \"Poor\", \" - Actual outcome: \", actual_outcome)\n",
    "            \n",
    "            prediction_results.append({\n",
    "                'patient_id': patient_id,\n",
    "                'outcome_binary': outcome_binary,\n",
    "                'outcome_prob': outcome_probability, \n",
    "                'actual_outcome': actual_outcome,\n",
    "            })\n",
    "            \n",
    "        except:\n",
    "            if allow_failures:\n",
    "                if verbose >= 2:\n",
    "                    print('... failed.')\n",
    "                outcome_binary, outcome_probability, cpc = float('nan'), float('nan'), float('nan')\n",
    "            else:\n",
    "                raise\n",
    "\n",
    "        #Save output to csv\n",
    "        \n",
    "    save_predictions_to_csv(prediction_results, output_folder, output_filename)\n",
    "\n",
    "    if verbose >= 1:\n",
    "        print('Done.')"
   ]
  },
  {
   "cell_type": "code",
   "execution_count": 9,
   "id": "454b178a",
   "metadata": {},
   "outputs": [
    {
     "name": "stdout",
     "output_type": "stream",
     "text": [
      "Start run model\n",
      "Loading the Challenge models...\n",
      "Load model...\n",
      "Loading checkpoint from models/test/eeg/checkpoint_7.pth\n"
     ]
    },
    {
     "name": "stderr",
     "output_type": "stream",
     "text": [
      "/home/nganluu/miniconda3/envs/rank-15/lib/python3.9/site-packages/torchvision/models/_utils.py:208: UserWarning: The parameter 'pretrained' is deprecated since 0.13 and may be removed in the future, please use 'weights' instead.\n",
      "  warnings.warn(\n",
      "/home/nganluu/miniconda3/envs/rank-15/lib/python3.9/site-packages/torchvision/models/_utils.py:223: UserWarning: Arguments other than a weight enum or `None` for 'weights' are deprecated since 0.13 and may be removed in the future. The current behavior is equivalent to passing `weights=None`.\n",
      "  warnings.warn(msg)\n"
     ]
    },
    {
     "name": "stdout",
     "output_type": "stream",
     "text": [
      "Finding the Challenge data...\n",
      "Running the Challenge models on the Challenge data...\n"
     ]
    },
    {
     "name": "stderr",
     "output_type": "stream",
     "text": [
      "  0%|          | 0/2 [00:00<?, ?it/s]"
     ]
    },
    {
     "name": "stdout",
     "output_type": "stream",
     "text": [
      "[0/2]\n",
      "PATIENT ID:  0392\n"
     ]
    },
    {
     "name": "stderr",
     "output_type": "stream",
     "text": [
      "100%|██████████| 4/4 [00:01<00:00,  2.92it/s]\n",
      " 50%|█████     | 1/2 [00:01<00:01,  1.39s/it]"
     ]
    },
    {
     "name": "stdout",
     "output_type": "stream",
     "text": [
      "outcome_probabilities_torch_imputed 1.0\n",
      "torch_name:  ['prob_EEG_torch_voted']\n",
      "Predict outcome:  Poor  - Actual outcome:  Poor\n",
      "[1/2]\n",
      "PATIENT ID:  0397\n"
     ]
    },
    {
     "name": "stderr",
     "output_type": "stream",
     "text": [
      "100%|██████████| 3/3 [00:01<00:00,  2.45it/s]\n",
      "100%|██████████| 2/2 [00:02<00:00,  1.31s/it]"
     ]
    },
    {
     "name": "stdout",
     "output_type": "stream",
     "text": [
      "outcome_probabilities_torch_imputed 1.0\n",
      "torch_name:  ['prob_EEG_torch_voted']\n",
      "Predict outcome:  Poor  - Actual outcome:  Good\n",
      "Done.\n",
      "Finished running run_model.py in 0.05 minutes.\n"
     ]
    },
    {
     "name": "stderr",
     "output_type": "stream",
     "text": [
      "\n"
     ]
    }
   ],
   "source": [
    "print(\"Start run model\")\n",
    "start_time_run_model = time.time()\n",
    "\n",
    "# Allow or disallow the model to fail on parts of the data; helpful for debugging.\n",
    "allow_failures = False\n",
    "\n",
    "verbose = 1\n",
    "\n",
    "run_model(model_folder, data_folder, output_folder, test_ids, allow_failures, verbose)\n",
    "\n",
    "print(f\"Finished running run_model.py in {round((time.time() - start_time_run_model)/60, 2)} minutes.\")"
   ]
  },
  {
   "cell_type": "markdown",
   "id": "d0b454e4",
   "metadata": {},
   "source": [
    "### Evaluate model"
   ]
  },
  {
   "cell_type": "code",
   "execution_count": 10,
   "id": "62893df9",
   "metadata": {},
   "outputs": [],
   "source": [
    "from sklearn.metrics import (\n",
    "    accuracy_score, precision_score, recall_score,\n",
    "    f1_score, roc_auc_score, confusion_matrix\n",
    ")\n",
    "import matplotlib.pyplot as plt\n",
    "import seaborn as sns\n",
    "from helper_code import load_predictions_from_csv"
   ]
  },
  {
   "cell_type": "code",
   "execution_count": 11,
   "id": "0422e8ff",
   "metadata": {},
   "outputs": [],
   "source": [
    "all_results = load_predictions_from_csv(output_folder, output_filename)\n",
    "y_pred = list()\n",
    "y_true = list()\n",
    "y_prob = list()\n",
    "for res in all_results:\n",
    "    y_pred.append(res['outcome_binary'])\n",
    "    y_true.append(res['actual_outcome'])\n",
    "    y_prob.append(res['outcome_prob'])\n",
    "\n",
    "\n",
    "acc = accuracy_score(y_true, y_pred)\n",
    "prec = precision_score(y_true, y_pred)\n",
    "rec = recall_score(y_true, y_pred)\n",
    "f1 = f1_score(y_true, y_pred)\n",
    "roc_auc = roc_auc_score(y_true, y_prob)\n",
    "cm = confusion_matrix(y_true, y_pred)\n",
    "\n"
   ]
  },
  {
   "cell_type": "code",
   "execution_count": 12,
   "id": "8ea72adb",
   "metadata": {},
   "outputs": [
    {
     "name": "stdout",
     "output_type": "stream",
     "text": [
      "=== Evaluation Metrics ===\n",
      "Accuracy       : 0.5000\n",
      "Precision      : 0.5000\n",
      "Recall         : 1.0000\n",
      "F1 Score       : 0.6667\n"
     ]
    }
   ],
   "source": [
    "print(\"=== Evaluation Metrics ===\")\n",
    "print(f\"Accuracy       : {acc:.4f}\")\n",
    "print(f\"Precision      : {prec:.4f}\")\n",
    "print(f\"Recall         : {rec:.4f}\")\n",
    "print(f\"F1 Score       : {f1:.4f}\")\n"
   ]
  },
  {
   "cell_type": "code",
   "execution_count": 13,
   "id": "538d04a0",
   "metadata": {},
   "outputs": [],
   "source": [
    "def plot_confusion_matrix(y_true, y_pred, labels=[0, 1]):\n",
    "    cm = confusion_matrix(y_true, y_pred, labels=labels)\n",
    "    plt.figure(figsize=(6, 4))\n",
    "    sns.heatmap(cm, annot=True, fmt='d', cmap='Blues',\n",
    "                xticklabels=labels, yticklabels=labels)\n",
    "    plt.xlabel('Predicted')\n",
    "    plt.ylabel('Actual')\n",
    "    plt.title('Confusion Matrix')\n",
    "    plt.show()"
   ]
  },
  {
   "cell_type": "code",
   "execution_count": 14,
   "id": "781aa6f7",
   "metadata": {},
   "outputs": [
    {
     "data": {
      "image/png": "[encoded data removed]",
      "text/plain": [
       "<Figure size 600x400 with 2 Axes>"
      ]
     },
     "metadata": {},
     "output_type": "display_data"
    }
   ],
   "source": [
    "plot_confusion_matrix(y_true, y_pred)"
   ]
  }
 ],
 "metadata": {
  "kernelspec": {
   "display_name": "rank-15",
   "language": "python",
   "name": "python3"
  },
  "language_info": {
   "codemirror_mode": {
    "name": "ipython",
    "version": 3
   },
   "file_extension": ".py",
   "mimetype": "text/x-python",
   "name": "python",
   "nbconvert_exporter": "python",
   "pygments_lexer": "ipython3",
   "version": "3.9.21"
  }
 },
 "nbformat": 4,
 "nbformat_minor": 5
}
